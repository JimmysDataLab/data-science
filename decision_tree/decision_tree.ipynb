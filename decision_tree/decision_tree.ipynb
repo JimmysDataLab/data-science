{
 "cells": [
  {
   "cell_type": "markdown",
   "id": "4d9d57cb",
   "metadata": {},
   "source": [
    "* Pure python implementation of decision trees"
   ]
  },
  {
   "cell_type": "code",
   "execution_count": 3,
   "id": "c91bcdc3",
   "metadata": {},
   "outputs": [],
   "source": [
    "import pandas as pd\n",
    "import numpy as np\n",
    "import random"
   ]
  },
  {
   "cell_type": "code",
   "execution_count": 31,
   "id": "7373677a",
   "metadata": {},
   "outputs": [],
   "source": [
    "SAMPLE_DATA = pd.DataFrame({'x1':[np.random.uniform(1,100) for _ in range(100)],\n",
    "                            'x2':[np.random.uniform(-100,200) for _ in range(100)],\n",
    "                            'x3':[np.random.randint(0,10) for _ in range(100)],\n",
    "                           'y':[np.random.randint(0,2) for _ in range(100)]})\n",
    "\n",
    "SAMPLE_DATA = pd.get_dummies(SAMPLE_DATA, columns=['x3'],dtype='int')\n"
   ]
  },
  {
   "cell_type": "code",
   "execution_count": 26,
   "id": "59dbc234",
   "metadata": {},
   "outputs": [],
   "source": []
  }
 ],
 "metadata": {
  "kernelspec": {
   "display_name": "data-science",
   "language": "python",
   "name": "data-science"
  },
  "language_info": {
   "codemirror_mode": {
    "name": "ipython",
    "version": 3
   },
   "file_extension": ".py",
   "mimetype": "text/x-python",
   "name": "python",
   "nbconvert_exporter": "python",
   "pygments_lexer": "ipython3",
   "version": "3.9.7"
  }
 },
 "nbformat": 4,
 "nbformat_minor": 5
}
